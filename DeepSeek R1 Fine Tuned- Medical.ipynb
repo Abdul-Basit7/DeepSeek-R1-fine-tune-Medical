{
 "cells": [
  {
   "cell_type": "code",
   "execution_count": null,
   "metadata": {
    "colab": {
     "base_uri": "https://localhost:8080/",
     "height": 1000
    },
    "collapsed": true,
    "id": "rd0kEDZAIorn",
    "outputId": "57989368-566d-47ba-b461-f545b8897ebd"
   },
   "outputs": [],
   "source": [
    "!pip install unsloth # install unsloth\n",
    "!pip install --force-reinstall --no-cache-dir --no-deps git+https://github.com/unslothai/unsloth.git # Also get the latest version Unsloth!\n"
   ]
  },
  {
   "cell_type": "code",
   "execution_count": null,
   "metadata": {
    "colab": {
     "base_uri": "https://localhost:8080/"
    },
    "id": "yZ4ztPGqMQa-",
    "outputId": "6dd6aa77-4b06-47a9-a977-dd603014cc6a"
   },
   "outputs": [],
   "source": [
    "from unsloth import FastLanguageModel\n",
    "import torch\n",
    "from trl import SFTTrainer\n",
    "from unsloth import is_bfloat16_supported\n",
    "from huggingface_hub import login\n",
    "from transformers import TrainingArguments\n",
    "from datasets import load_dataset\n",
    "import wandb"
   ]
  },
  {
   "cell_type": "code",
   "execution_count": null,
   "metadata": {
    "id": "BxYC4CxjNNN0"
   },
   "outputs": [],
   "source": [
    "from google.colab import userdata\n",
    "hf_token  = userdata.get('HF_Token')\n",
    "login(hf_token)"
   ]
  },
  {
   "cell_type": "code",
   "execution_count": null,
   "metadata": {
    "colab": {
     "base_uri": "https://localhost:8080/",
     "height": 211
    },
    "collapsed": true,
    "id": "IBS7wWH6O20l",
    "outputId": "c64a82a9-6dd6-4648-888c-49ece2d73ca2"
   },
   "outputs": [],
   "source": [
    "from os import name\n",
    "wnb_oken = userdata.get('WNB_Token')\n",
    "wandb.login(key=wnb_oken)\n",
    "\n",
    "run = wandb.init(\n",
    "    project=\"Fine tuning DeepSeek R1\",\n",
    ")"
   ]
  },
  {
   "cell_type": "markdown",
   "metadata": {
    "id": "KfzybkcsPhlt"
   },
   "source": [
    "# **1. Setup Pretrained DeepSeek R1**\n",
    "\n",
    "\n"
   ]
  },
  {
   "cell_type": "code",
   "execution_count": null,
   "metadata": {
    "colab": {
     "base_uri": "https://localhost:8080/",
     "height": 281,
     "referenced_widgets": [
      "a0f5de18ff084778ac3f92545d2ef4eb",
      "e0184c2415ed4fac8e86b7be39f93797",
      "ddf7df23b6474a9ab1577f9c04a21156",
      "37f75a0ee6d84c8796a61ae055ae15ef",
      "907d7893515e4f03ab57f389cb921e4e",
      "3254f9c3195e4521815514569b30ee50",
      "f287637160b743fcbcd6343794ad8abe",
      "006f783184114c279d327f77e5aa4e56",
      "f0e2fb4516254d70a2fc9a0ed30d9652",
      "7ed7b2be82fc42faa4d98edc672a869f",
      "e42bb3c82c124f4b8a6a375d4fde99b9",
      "0138c09a90174622acf2975c69f45675",
      "e38986e39cbe440188af8e4be0ef8837",
      "4d76de50c35f45d28a36cb3525960cca",
      "78437571badc47f58b04696d215646fb",
      "332ae8e906aa4ac5a7d8ae272a210fec",
      "6bd9e320337947ec89868cac71863660",
      "7b39e795582a48beae3c7b1b2f5f4c36",
      "1823ce5f3826477ab10fa97bcefdb160",
      "774bade6f1714fff82277a979b1c7eb6",
      "79662dba021f4385b053ed2aba12f916",
      "e0c741d146ea41e68d99634dc674f87e",
      "5ef8705ce66c46bda70c3a069d8836ff",
      "b0c881b8986b42b1b42a775dc0de1b55",
      "1b12a62dcf01404f8af51791f9f390c9",
      "5d2044184833434d9fd2b15679d1b8e4",
      "675645d5434b43efb922406ef11d977a",
      "633271bb65c242bcb62797d58f282462",
      "599944fb20f84a10a1400dcbed610f1a",
      "593ab05fc3654814942f01e6ebca7da1",
      "1314cf4f0c53480bb572c4c12f86558f",
      "aa4289a693f342a096cc930bb238cff1",
      "0720362af45e4123af69a867177a08e6",
      "0d88a3aa535d431cb59fdd3e2b353f12",
      "430949bd16524dbaaf43a0b22c59ccc8",
      "957c19e28a1345f69c98076a252e7c64",
      "3905acac92514859883ecfdf229e1b19",
      "f7133b1e45f742d28b76cdd2526f04c0",
      "3c06941f76ff4e0d9758c766852122bc",
      "582350ba17a14bd4be261b14a1ba23d5",
      "1093a165913b4e3f8cd6ef5d0573cdbc",
      "28d7f81f78ca4c19b6941d43b6102620",
      "53746500e75e4b06ac7c0f422503d3b7",
      "7bc76f4a106048c6be60757cd22bc281",
      "0d6113bea28f44228cf08f9681041436",
      "25e9eee94aae4385a0aacae4808afb38",
      "7b5fdeed85bb4362bb98b58b5e2dad9b",
      "7aa6d891a83447308c675cb26996a82b",
      "f3c9b4e6f5b04036be288a244011d1d2",
      "df2d82634f684f31beaabc42cf0bdb90",
      "ad8739a40caf4137b18477b944c69f51",
      "4e6496255b9346a098b151a28ee135a0",
      "bde42e1feab94c03ab86a22f61593b8a",
      "6bcc1d4197594b17843dfa629351b3b0",
      "0d3ee8e3696e4ad6a4b972dcfb278d0f"
     ]
    },
    "collapsed": true,
    "id": "LpNBTwtfNkVs",
    "outputId": "8c894bea-3bf6-4cb4-9b86-a2b4a4dae592"
   },
   "outputs": [],
   "source": [
    "model_name = \"unsloth/DeepSeek-R1-Distill-Llama-8B\"\n",
    "max_seq_lenth = 2048\n",
    "dtype = None\n",
    "load_in_4bit = True\n",
    "\n",
    "model, tokenizer = FastLanguageModel.from_pretrained(\n",
    "    model_name = model_name,\n",
    "    max_seq_length = max_seq_lenth,\n",
    "    dtype = dtype,\n",
    "    load_in_4bit = load_in_4bit,\n",
    "    token = hf_token\n",
    ")\n"
   ]
  },
  {
   "cell_type": "markdown",
   "metadata": {
    "id": "Sq-ZttHQR45F"
   },
   "source": [
    "# **2. Setting up System Prompt**"
   ]
  },
  {
   "cell_type": "code",
   "execution_count": null,
   "metadata": {
    "id": "9kS83OdcR1F1"
   },
   "outputs": [],
   "source": [
    "train_prompt_style  = \"\"\"Below is an instruction that describes a task, paired with an input that provides further context.\n",
    "Write a response that appropriately completes the request.\n",
    "Before answering, think carefully about the question and create a step-by-step chain of thoughts to ensure a logical and accurate response.\n",
    "\n",
    "### Instruction:\n",
    "You are a medical expert with advanced knowledge in clinical reasoning, diagnostics, and treatment planning.\n",
    "Please answer the following medical question.\n",
    "\n",
    "### Question:\n",
    "{}\n",
    "\n",
    "### Response:\n",
    "<think>\n",
    "{}\n",
    "</think>\n",
    "{}\"\"\""
   ]
  },
  {
   "cell_type": "markdown",
   "metadata": {
    "id": "RSIE8jj3Suet"
   },
   "source": [
    "# **3. Prepare the data for fine-tuning**\n",
    "\n",
    "\n"
   ]
  },
  {
   "cell_type": "code",
   "execution_count": null,
   "metadata": {
    "id": "iHXvf41WSqjW"
   },
   "outputs": [],
   "source": [
    "EOS_token = tokenizer.eos_token\n",
    "\n",
    "def formatting_prompt_func(examples):\n",
    "    inputs = examples[\"Question\"]\n",
    "    cots = examples[\"Complex_CoT\"]\n",
    "    outputs = examples[\"Response\"]\n",
    "    texts = []\n",
    "\n",
    "    for inputs, cots, response in zip(inputs, cots, outputs): # Fixed: Corrected indentation for the for loop and corrected the arguments within zip to use the variables defined earlier in the function.\n",
    "        text = train_prompt_style.format(inputs, cots, response) + EOS_token\n",
    "        texts.append(text) # Fixed: Append to texts list instead of text.\n",
    "\n",
    "    return {\"text\": texts} # Fixed: Return the accumulated texts list instead of a single text."
   ]
  },
  {
   "cell_type": "markdown",
   "metadata": {
    "id": "63jYFoKfXdDf"
   },
   "source": [
    "# **4. Load the Dataset**"
   ]
  },
  {
   "cell_type": "code",
   "execution_count": null,
   "metadata": {
    "colab": {
     "base_uri": "https://localhost:8080/",
     "height": 172,
     "referenced_widgets": [
      "953449c7243e43f69def8c0b61f80a0a",
      "915aea39de974fb9908167e7f937ec60",
      "4e0822c965464cb1abc16cdade51a048",
      "4d333a38cae64e7286ccc496c00beefa",
      "d40e92273c914ebdb1c41748bff38c85",
      "42329ef8e6ca4a6da91b1d94d4979435",
      "be42123847504e799c9db092b9af88bf",
      "daac244fbf7c479e9f93b22ff8043c49",
      "b1a3b9ab24634e7aa2b4e20774f6e2e3",
      "1f1aef2a8d944b078f8c64b9a6d6f0f9",
      "ec088b0b6b704bca876a60cbd78f6575"
     ]
    },
    "collapsed": true,
    "id": "T9MFKd3uXlW4",
    "outputId": "d0350b48-5c9a-45df-d888-649d73aae9d7"
   },
   "outputs": [],
   "source": [
    "dataset = load_dataset(\"FreedomIntelligence/medical-o1-reasoning-SFT\",\"en\", split=\"train[:400]\",trust_remote_code=True)\n",
    "dataset = dataset.map(formatting_prompt_func, batched=True)\n",
    "dataset[\"text\"][0]"
   ]
  },
  {
   "cell_type": "markdown",
   "metadata": {
    "id": "f9hBw4iLbI1R"
   },
   "source": [
    "# 5. Adding the low-rank adopter to the model."
   ]
  },
  {
   "cell_type": "code",
   "execution_count": null,
   "metadata": {
    "colab": {
     "base_uri": "https://localhost:8080/"
    },
    "id": "hpJBtSFMbMGV",
    "outputId": "81bf583b-799e-4af5-eee4-74dca70cec3c"
   },
   "outputs": [],
   "source": [
    "lora_model = FastLanguageModel.get_peft_model(\n",
    "    model,\n",
    "    r = 16,\n",
    "    target_modules = [\n",
    "\n",
    "        \"q_proj\",\n",
    "        \"k_proj\",\n",
    "        \"v_proj\",\n",
    "        \"o_proj\",\n",
    "        \"gate_proj\",\n",
    "        \"up_proj\",\n",
    "        \"down_proj\",\n",
    "    ],\n",
    "    lora_alpha=16,\n",
    "    lora_dropout=0,\n",
    "    bias=\"none\",\n",
    "    use_gradient_checkpointing=\"unsloth\",\n",
    "    random_state=3407,\n",
    "    use_rslora=False,\n",
    "    loftq_config=None,\n",
    ")"
   ]
  },
  {
   "cell_type": "markdown",
   "metadata": {
    "id": "4uhNCAYVk-zn"
   },
   "source": [
    "# **6. Training**"
   ]
  },
  {
   "cell_type": "code",
   "execution_count": null,
   "metadata": {
    "colab": {
     "base_uri": "https://localhost:8080/",
     "height": 49,
     "referenced_widgets": [
      "abc8e3d5ca2d49c5907a6e23929b74e0",
      "ad8cba3d372e44c79d69b83e449fcdbf",
      "17f16028e00f42c1af0071dcb1c1e162",
      "d9aa58347ead4c1c81e8d3cdf65866cf",
      "b9cf3af9b1324efeb6e75905aab7f2c2",
      "bc1e86e2a5f9404e97f22f0ef7dca4af",
      "7615ef8e8bbb4099948c5da5cfaf17ea",
      "f2a2d81ee9a6447dba4e001a69bf6383",
      "be1a9215b43546a89d6e7f34ba7a6244",
      "d0ce306a345843418d0c3c39a0d2b5c2",
      "5752d83e78bb48789835d2e4ec951717"
     ]
    },
    "id": "GsP8qiYVcewt",
    "outputId": "7cf7df35-9863-4d52-b975-a5dea1d7c150"
   },
   "outputs": [],
   "source": [
    "trainer = SFTTrainer(\n",
    "    model=lora_model,\n",
    "    tokenizer=tokenizer,\n",
    "    train_dataset=dataset,\n",
    "    dataset_text_field=\"text\",\n",
    "    max_seq_length = max_seq_lenth,\n",
    "    dataset_num_proc = 1,\n",
    "\n",
    "     # Define training args\n",
    "    args = TrainingArguments(\n",
    "        per_device_train_batch_size = 2,\n",
    "        gradient_accumulation_steps = 4,\n",
    "        num_train_epochs = 1,\n",
    "        warmup_steps = 5,\n",
    "        max_steps = 60,\n",
    "        learning_rate = 2e-4,\n",
    "        fp16 = not is_bfloat16_supported(),\n",
    "        bf16=is_bfloat16_supported(),\n",
    "        logging_steps = 10,\n",
    "        optim = \"adamw_8bit\",\n",
    "        weight_decay = 0.01,\n",
    "        lr_scheduler_type=\"linear\",\n",
    "        seed=3407,\n",
    "        output_dir = \"outputs\",\n",
    "\n",
    "    )\n",
    "\n",
    ")"
   ]
  },
  {
   "cell_type": "code",
   "execution_count": null,
   "metadata": {
    "colab": {
     "base_uri": "https://localhost:8080/",
     "height": 405
    },
    "id": "6kRN-RGQfhJ5",
    "outputId": "f5bfc993-e9b9-4b7a-a7af-ce9dbb971770"
   },
   "outputs": [],
   "source": [
    "trainer_stats = trainer.train()"
   ]
  },
  {
   "cell_type": "code",
   "execution_count": null,
   "metadata": {
    "colab": {
     "base_uri": "https://localhost:8080/",
     "height": 596
    },
    "collapsed": true,
    "id": "q4Thn7wekmAo",
    "outputId": "efdde607-30d6-467b-b068-baf40bef1be7"
   },
   "outputs": [],
   "source": [
    "wandb.finish()"
   ]
  },
  {
   "cell_type": "code",
   "execution_count": null,
   "metadata": {
    "colab": {
     "base_uri": "https://localhost:8080/"
    },
    "id": "umHvm969k4W3",
    "outputId": "befa9669-b92e-4050-ed23-5c5c4cf6a920"
   },
   "outputs": [],
   "source": [
    "question = \"\"\"Given the symptoms of sudden weakness in the left arm and leg, recent long-distance travel, and the presence of swollen and tender right lower leg, what specific cardiac abnormality is most likely to be found upon further evaluation that could explain these findings?\n",
    "\n",
    "\"\"\"\n",
    "\n",
    "FastLanguageModel.for_inference(model)\n",
    "\n",
    "inputs = tokenizer([train_prompt_style.format(question, \"\",\"\")], return_tensors=\"pt\").to(\"cuda\")\n",
    "\n",
    "outputs = lora_model.generate(\n",
    "    input_ids=inputs.input_ids,\n",
    "    attention_mask=inputs.attention_mask,\n",
    "    max_new_tokens=1200,\n",
    "    use_cache=True,\n",
    "    )\n",
    "response = tokenizer.batch_decode(outputs)\n",
    "print(response[0].split(\"### Response:\")[1])"
   ]
  },
  {
   "cell_type": "code",
   "execution_count": null,
   "metadata": {
    "colab": {
     "base_uri": "https://localhost:8080/",
     "height": 49,
     "referenced_widgets": [
      "a05050bb99214d0db62d5c4cae5fdf75",
      "404d57b24ebe4724803e7fa75aed0ab2",
      "825b4fe411a047658ab04a8a87805156",
      "d1ab373ab3664f61b2e578984a9bb60e",
      "b6e5aeeaf9d3444e97507c7835c837a5",
      "fbb7a35b4444437185342479cb72877f",
      "59d77b8482aa48e58ffa2fae948432e5",
      "c20f9cec0cd94b20bd55b9368c708d72",
      "1d0eb46c5b1048dfa05ea8e37174c7e4",
      "b2008a0c3e464bf2b6aa136a22858306",
      "1d14a3836cd74ed484ea2a1dc694dc0e"
     ]
    },
    "id": "-FrPczbNqtus",
    "outputId": "a4122dd9-3ab9-422e-94ad-986041171af2"
   },
   "outputs": [],
   "source": [
    "new_model_online = \"ABRm15/DeepSeek-R1-Fine-tuned-Medical\"\n",
    "model.push_to_hub(new_model_online)\n",
    "tokenizer.push_to_hub(new_model_online)\n",
    "\n",
    "model.push_to_hub_merged(new_model_online, tokenizer, save_method = \"merged_16bit\")"
   ]
  }
 ],
 "metadata": {
  "accelerator": "GPU",
  "colab": {
   "gpuType": "T4",
   "provenance": []
  },
  "kernelspec": {
   "display_name": "Python 3",
   "name": "python3"
  },
  "language_info": {
   "name": "python"
  }
 },
 "nbformat": 4,
 "nbformat_minor": 0
}
